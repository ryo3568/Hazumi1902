{
 "cells": [
  {
   "cell_type": "code",
   "execution_count": 16,
   "metadata": {},
   "outputs": [],
   "source": [
    "from dataloader import IEMOCAPDataset\n",
    "import pickle"
   ]
  },
  {
   "cell_type": "code",
   "execution_count": 17,
   "metadata": {},
   "outputs": [],
   "source": [
    "path = 'IEMOCAP_features/IEMOCAP_features_raw.pkl'\n",
    "videoIDs, videoSpeakers, videoLabels, videoText,\\\n",
    "videoAudio, videoVisual, videoSentence, trainVid,\\\n",
    "testVid = pickle.load(open(path, 'rb'), encoding='latin1')"
   ]
  },
  {
   "cell_type": "code",
   "execution_count": 18,
   "metadata": {},
   "outputs": [
    {
     "name": "stdout",
     "output_type": "stream",
     "text": [
      "{'key1': [0, 1, 0], 'key2': [2, 0, 0], 'key3': [0, 0, 0]}\n"
     ]
    }
   ],
   "source": [
    "d = {'key1':[1,2,3], 'key2':[4,5,6], 'key3':[7,8,9]}\n",
    "\n",
    "for key, values in d.items():\n",
    "    new_list = [] \n",
    "    for v in values:\n",
    "        if v == 0 or v == 4:\n",
    "            new_list.append(2)\n",
    "        elif v == 2:\n",
    "            new_list.append(1)\n",
    "        else:\n",
    "            new_list.append(0)\n",
    "    d[key] = new_list\n",
    "\n",
    "print(d)\n"
   ]
  },
  {
   "cell_type": "code",
   "execution_count": null,
   "metadata": {},
   "outputs": [],
   "source": []
  }
 ],
 "metadata": {
  "kernelspec": {
   "display_name": "Python 3",
   "language": "python",
   "name": "python3"
  },
  "language_info": {
   "codemirror_mode": {
    "name": "ipython",
    "version": 3
   },
   "file_extension": ".py",
   "mimetype": "text/x-python",
   "name": "python",
   "nbconvert_exporter": "python",
   "pygments_lexer": "ipython3",
   "version": "3.9.12"
  },
  "orig_nbformat": 4
 },
 "nbformat": 4,
 "nbformat_minor": 2
}
