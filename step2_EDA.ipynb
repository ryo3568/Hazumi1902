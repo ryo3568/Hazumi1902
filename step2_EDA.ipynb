{
 "cells": [
  {
   "cell_type": "code",
   "execution_count": 1,
   "metadata": {},
   "outputs": [],
   "source": [
    "import pandas as pd \n",
    "import glob "
   ]
  },
  {
   "cell_type": "code",
   "execution_count": null,
   "metadata": {},
   "outputs": [],
   "source": [
    "FILE_PATH = \"/home/ryoyanagimoto/Hazumi1902/dumpfiles/*.csv\"\n",
    "files = glob.glob(FILE_PATH)\n",
    "\n",
    "S = set()\n",
    "\n",
    "\n",
    "for i, file in enumerate(files):\n",
    "    df = pd.read_csv(file)\n",
    "    col_f = set(df.columns.values)\n",
    "    for j, g in enumerate(files):\n",
    "        df_g = pd.read_csv(g)\n",
    "        col_g = set(df_g.columns.values) \n",
    "        if col_g != col_f:\n",
    "            print(col_f - col_g)\n",
    "            break\n",
    "\n",
    "    \n",
    "    "
   ]
  },
  {
   "cell_type": "code",
   "execution_count": 44,
   "metadata": {},
   "outputs": [
    {
     "data": {
      "text/plain": [
       "(111, 1483)"
      ]
     },
     "execution_count": 44,
     "metadata": {},
     "output_type": "execute_result"
    }
   ],
   "source": [
    "df1 = pd.read_csv(\"/home/ryoyanagimoto/Hazumi1902/dumpfiles/1902F2001.csv\")\n",
    "df2 = pd.read_csv(\"/home/ryoyanagimoto/Hazumi1902/dumpfiles/1902F2002.csv\")\n",
    "\n",
    "df1.shape"
   ]
  },
  {
   "cell_type": "code",
   "execution_count": null,
   "metadata": {},
   "outputs": [],
   "source": []
  }
 ],
 "metadata": {
  "kernelspec": {
   "display_name": "hazumi1902",
   "language": "python",
   "name": "hazumi1902"
  },
  "language_info": {
   "codemirror_mode": {
    "name": "ipython",
    "version": 3
   },
   "file_extension": ".py",
   "mimetype": "text/x-python",
   "name": "python",
   "nbconvert_exporter": "python",
   "pygments_lexer": "ipython3",
   "version": "3.9.12"
  },
  "orig_nbformat": 4
 },
 "nbformat": 4,
 "nbformat_minor": 2
}
